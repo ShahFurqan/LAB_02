{
 "cells": [
  {
   "cell_type": "code",
   "execution_count": 1,
   "id": "split-birmingham",
   "metadata": {
    "execution": {
     "iopub.execute_input": "2021-11-22T13:27:49.323850Z",
     "iopub.status.busy": "2021-11-22T13:27:49.323156Z",
     "iopub.status.idle": "2021-11-22T13:27:50.117957Z",
     "shell.execute_reply": "2021-11-22T13:27:50.116699Z",
     "shell.execute_reply.started": "2021-11-16T14:23:41.488958Z"
    },
    "papermill": {
     "duration": 0.8532,
     "end_time": "2021-11-22T13:27:50.118144",
     "exception": false,
     "start_time": "2021-11-22T13:27:49.264944",
     "status": "completed"
    },
    "tags": []
   },
   "outputs": [],
   "source": [
    "# necessary imports\n",
    "\n",
    "import pandas as pd\n",
    "import numpy as np\n",
    "import matplotlib.pyplot as plt\n",
    "import seaborn as sns\n",
    "\n",
    "import warnings\n",
    "warnings.filterwarnings('ignore')\n",
    "\n",
    "%matplotlib inline\n",
    "plt.style.use('fivethirtyeight')"
   ]
  },
  {
   "cell_type": "code",
   "execution_count": 2,
   "id": "parliamentary-communist",
   "metadata": {
    "execution": {
     "iopub.execute_input": "2021-11-22T13:27:50.217329Z",
     "iopub.status.busy": "2021-11-22T13:27:50.216523Z",
     "iopub.status.idle": "2021-11-22T13:27:50.446892Z",
     "shell.execute_reply": "2021-11-22T13:27:50.445862Z",
     "shell.execute_reply.started": "2021-11-16T14:23:41.500881Z"
    },
    "papermill": {
     "duration": 0.28188,
     "end_time": "2021-11-22T13:27:50.447109",
     "exception": false,
     "start_time": "2021-11-22T13:27:50.165229",
     "status": "completed"
    },
    "tags": []
   },
   "outputs": [],
   "source": [
    "from sklearn.datasets import load_boston\n",
    "\n",
    "data = load_boston() # reading data"
   ]
  },
  {
   "cell_type": "code",
   "execution_count": 4,
   "id": "hindu-explosion",
   "metadata": {
    "execution": {
     "iopub.execute_input": "2021-11-22T13:27:50.775579Z",
     "iopub.status.busy": "2021-11-22T13:27:50.774947Z",
     "iopub.status.idle": "2021-11-22T13:27:50.780441Z",
     "shell.execute_reply": "2021-11-22T13:27:50.780965Z",
     "shell.execute_reply.started": "2021-11-16T14:23:41.542349Z"
    },
    "papermill": {
     "duration": 0.056029,
     "end_time": "2021-11-22T13:27:50.781119",
     "exception": false,
     "start_time": "2021-11-22T13:27:50.725090",
     "status": "completed"
    },
    "tags": []
   },
   "outputs": [],
   "source": [
    "# Data : Independent Variables also known as the x values.\n",
    "# feature_names :The column names of the data.\n",
    "# target :The target variable or the price of the houses\n",
    "# creating dataframe \n",
    "\n",
    "df = pd.DataFrame(data.data, columns = data.feature_names)"
   ]
  },
  {
   "cell_type": "code",
   "execution_count": 5,
   "id": "pregnant-forum",
   "metadata": {
    "execution": {
     "iopub.execute_input": "2021-11-22T13:27:50.880408Z",
     "iopub.status.busy": "2021-11-22T13:27:50.879800Z",
     "iopub.status.idle": "2021-11-22T13:27:50.890146Z",
     "shell.execute_reply": "2021-11-22T13:27:50.890779Z",
     "shell.execute_reply.started": "2021-11-16T14:23:41.555023Z"
    },
    "papermill": {
     "duration": 0.061367,
     "end_time": "2021-11-22T13:27:50.890942",
     "exception": false,
     "start_time": "2021-11-22T13:27:50.829575",
     "status": "completed"
    },
    "tags": []
   },
   "outputs": [],
   "source": [
    "# adding target value to the data\n",
    "\n",
    "df['MEDV'] = data.target"
   ]
  },
  {
   "cell_type": "code",
   "execution_count": 6,
   "id": "yellow-somewhere",
   "metadata": {
    "execution": {
     "iopub.execute_input": "2021-11-22T13:27:50.990861Z",
     "iopub.status.busy": "2021-11-22T13:27:50.990198Z",
     "iopub.status.idle": "2021-11-22T13:27:51.022068Z",
     "shell.execute_reply": "2021-11-22T13:27:51.021445Z",
     "shell.execute_reply.started": "2021-11-16T14:23:41.569148Z"
    },
    "papermill": {
     "duration": 0.082479,
     "end_time": "2021-11-22T13:27:51.022208",
     "exception": false,
     "start_time": "2021-11-22T13:27:50.939729",
     "status": "completed"
    },
    "tags": []
   },
   "outputs": [
    {
     "data": {
      "text/html": [
       "<div>\n",
       "<style scoped>\n",
       "    .dataframe tbody tr th:only-of-type {\n",
       "        vertical-align: middle;\n",
       "    }\n",
       "\n",
       "    .dataframe tbody tr th {\n",
       "        vertical-align: top;\n",
       "    }\n",
       "\n",
       "    .dataframe thead th {\n",
       "        text-align: right;\n",
       "    }\n",
       "</style>\n",
       "<table border=\"1\" class=\"dataframe\">\n",
       "  <thead>\n",
       "    <tr style=\"text-align: right;\">\n",
       "      <th></th>\n",
       "      <th>CRIM</th>\n",
       "      <th>ZN</th>\n",
       "      <th>INDUS</th>\n",
       "      <th>CHAS</th>\n",
       "      <th>NOX</th>\n",
       "      <th>RM</th>\n",
       "      <th>AGE</th>\n",
       "      <th>DIS</th>\n",
       "      <th>RAD</th>\n",
       "      <th>TAX</th>\n",
       "      <th>PTRATIO</th>\n",
       "      <th>B</th>\n",
       "      <th>LSTAT</th>\n",
       "      <th>MEDV</th>\n",
       "    </tr>\n",
       "  </thead>\n",
       "  <tbody>\n",
       "    <tr>\n",
       "      <th>0</th>\n",
       "      <td>0.00632</td>\n",
       "      <td>18.0</td>\n",
       "      <td>2.31</td>\n",
       "      <td>0.0</td>\n",
       "      <td>0.538</td>\n",
       "      <td>6.575</td>\n",
       "      <td>65.2</td>\n",
       "      <td>4.0900</td>\n",
       "      <td>1.0</td>\n",
       "      <td>296.0</td>\n",
       "      <td>15.3</td>\n",
       "      <td>396.90</td>\n",
       "      <td>4.98</td>\n",
       "      <td>24.0</td>\n",
       "    </tr>\n",
       "    <tr>\n",
       "      <th>1</th>\n",
       "      <td>0.02731</td>\n",
       "      <td>0.0</td>\n",
       "      <td>7.07</td>\n",
       "      <td>0.0</td>\n",
       "      <td>0.469</td>\n",
       "      <td>6.421</td>\n",
       "      <td>78.9</td>\n",
       "      <td>4.9671</td>\n",
       "      <td>2.0</td>\n",
       "      <td>242.0</td>\n",
       "      <td>17.8</td>\n",
       "      <td>396.90</td>\n",
       "      <td>9.14</td>\n",
       "      <td>21.6</td>\n",
       "    </tr>\n",
       "    <tr>\n",
       "      <th>2</th>\n",
       "      <td>0.02729</td>\n",
       "      <td>0.0</td>\n",
       "      <td>7.07</td>\n",
       "      <td>0.0</td>\n",
       "      <td>0.469</td>\n",
       "      <td>7.185</td>\n",
       "      <td>61.1</td>\n",
       "      <td>4.9671</td>\n",
       "      <td>2.0</td>\n",
       "      <td>242.0</td>\n",
       "      <td>17.8</td>\n",
       "      <td>392.83</td>\n",
       "      <td>4.03</td>\n",
       "      <td>34.7</td>\n",
       "    </tr>\n",
       "    <tr>\n",
       "      <th>3</th>\n",
       "      <td>0.03237</td>\n",
       "      <td>0.0</td>\n",
       "      <td>2.18</td>\n",
       "      <td>0.0</td>\n",
       "      <td>0.458</td>\n",
       "      <td>6.998</td>\n",
       "      <td>45.8</td>\n",
       "      <td>6.0622</td>\n",
       "      <td>3.0</td>\n",
       "      <td>222.0</td>\n",
       "      <td>18.7</td>\n",
       "      <td>394.63</td>\n",
       "      <td>2.94</td>\n",
       "      <td>33.4</td>\n",
       "    </tr>\n",
       "    <tr>\n",
       "      <th>4</th>\n",
       "      <td>0.06905</td>\n",
       "      <td>0.0</td>\n",
       "      <td>2.18</td>\n",
       "      <td>0.0</td>\n",
       "      <td>0.458</td>\n",
       "      <td>7.147</td>\n",
       "      <td>54.2</td>\n",
       "      <td>6.0622</td>\n",
       "      <td>3.0</td>\n",
       "      <td>222.0</td>\n",
       "      <td>18.7</td>\n",
       "      <td>396.90</td>\n",
       "      <td>5.33</td>\n",
       "      <td>36.2</td>\n",
       "    </tr>\n",
       "  </tbody>\n",
       "</table>\n",
       "</div>"
      ],
      "text/plain": [
       "      CRIM    ZN  INDUS  CHAS    NOX     RM   AGE     DIS  RAD    TAX  \\\n",
       "0  0.00632  18.0   2.31   0.0  0.538  6.575  65.2  4.0900  1.0  296.0   \n",
       "1  0.02731   0.0   7.07   0.0  0.469  6.421  78.9  4.9671  2.0  242.0   \n",
       "2  0.02729   0.0   7.07   0.0  0.469  7.185  61.1  4.9671  2.0  242.0   \n",
       "3  0.03237   0.0   2.18   0.0  0.458  6.998  45.8  6.0622  3.0  222.0   \n",
       "4  0.06905   0.0   2.18   0.0  0.458  7.147  54.2  6.0622  3.0  222.0   \n",
       "\n",
       "   PTRATIO       B  LSTAT  MEDV  \n",
       "0     15.3  396.90   4.98  24.0  \n",
       "1     17.8  396.90   9.14  21.6  \n",
       "2     17.8  392.83   4.03  34.7  \n",
       "3     18.7  394.63   2.94  33.4  \n",
       "4     18.7  396.90   5.33  36.2  "
      ]
     },
     "execution_count": 6,
     "metadata": {},
     "output_type": "execute_result"
    }
   ],
   "source": [
    "df.head()"
   ]
  },
  {
   "cell_type": "code",
   "execution_count": 7,
   "id": "framed-treatment",
   "metadata": {
    "execution": {
     "iopub.execute_input": "2021-11-22T13:27:51.127773Z",
     "iopub.status.busy": "2021-11-22T13:27:51.126784Z",
     "iopub.status.idle": "2021-11-22T13:27:51.181805Z",
     "shell.execute_reply": "2021-11-22T13:27:51.181172Z",
     "shell.execute_reply.started": "2021-11-16T14:23:41.602825Z"
    },
    "papermill": {
     "duration": 0.111526,
     "end_time": "2021-11-22T13:27:51.181965",
     "exception": false,
     "start_time": "2021-11-22T13:27:51.070439",
     "status": "completed"
    },
    "tags": []
   },
   "outputs": [
    {
     "data": {
      "text/html": [
       "<div>\n",
       "<style scoped>\n",
       "    .dataframe tbody tr th:only-of-type {\n",
       "        vertical-align: middle;\n",
       "    }\n",
       "\n",
       "    .dataframe tbody tr th {\n",
       "        vertical-align: top;\n",
       "    }\n",
       "\n",
       "    .dataframe thead th {\n",
       "        text-align: right;\n",
       "    }\n",
       "</style>\n",
       "<table border=\"1\" class=\"dataframe\">\n",
       "  <thead>\n",
       "    <tr style=\"text-align: right;\">\n",
       "      <th></th>\n",
       "      <th>CRIM</th>\n",
       "      <th>ZN</th>\n",
       "      <th>INDUS</th>\n",
       "      <th>CHAS</th>\n",
       "      <th>NOX</th>\n",
       "      <th>RM</th>\n",
       "      <th>AGE</th>\n",
       "      <th>DIS</th>\n",
       "      <th>RAD</th>\n",
       "      <th>TAX</th>\n",
       "      <th>PTRATIO</th>\n",
       "      <th>B</th>\n",
       "      <th>LSTAT</th>\n",
       "      <th>MEDV</th>\n",
       "    </tr>\n",
       "  </thead>\n",
       "  <tbody>\n",
       "    <tr>\n",
       "      <th>count</th>\n",
       "      <td>506.000000</td>\n",
       "      <td>506.000000</td>\n",
       "      <td>506.000000</td>\n",
       "      <td>506.000000</td>\n",
       "      <td>506.000000</td>\n",
       "      <td>506.000000</td>\n",
       "      <td>506.000000</td>\n",
       "      <td>506.000000</td>\n",
       "      <td>506.000000</td>\n",
       "      <td>506.000000</td>\n",
       "      <td>506.000000</td>\n",
       "      <td>506.000000</td>\n",
       "      <td>506.000000</td>\n",
       "      <td>506.000000</td>\n",
       "    </tr>\n",
       "    <tr>\n",
       "      <th>mean</th>\n",
       "      <td>3.613524</td>\n",
       "      <td>11.363636</td>\n",
       "      <td>11.136779</td>\n",
       "      <td>0.069170</td>\n",
       "      <td>0.554695</td>\n",
       "      <td>6.284634</td>\n",
       "      <td>68.574901</td>\n",
       "      <td>3.795043</td>\n",
       "      <td>9.549407</td>\n",
       "      <td>408.237154</td>\n",
       "      <td>18.455534</td>\n",
       "      <td>356.674032</td>\n",
       "      <td>12.653063</td>\n",
       "      <td>22.532806</td>\n",
       "    </tr>\n",
       "    <tr>\n",
       "      <th>std</th>\n",
       "      <td>8.601545</td>\n",
       "      <td>23.322453</td>\n",
       "      <td>6.860353</td>\n",
       "      <td>0.253994</td>\n",
       "      <td>0.115878</td>\n",
       "      <td>0.702617</td>\n",
       "      <td>28.148861</td>\n",
       "      <td>2.105710</td>\n",
       "      <td>8.707259</td>\n",
       "      <td>168.537116</td>\n",
       "      <td>2.164946</td>\n",
       "      <td>91.294864</td>\n",
       "      <td>7.141062</td>\n",
       "      <td>9.197104</td>\n",
       "    </tr>\n",
       "    <tr>\n",
       "      <th>min</th>\n",
       "      <td>0.006320</td>\n",
       "      <td>0.000000</td>\n",
       "      <td>0.460000</td>\n",
       "      <td>0.000000</td>\n",
       "      <td>0.385000</td>\n",
       "      <td>3.561000</td>\n",
       "      <td>2.900000</td>\n",
       "      <td>1.129600</td>\n",
       "      <td>1.000000</td>\n",
       "      <td>187.000000</td>\n",
       "      <td>12.600000</td>\n",
       "      <td>0.320000</td>\n",
       "      <td>1.730000</td>\n",
       "      <td>5.000000</td>\n",
       "    </tr>\n",
       "    <tr>\n",
       "      <th>25%</th>\n",
       "      <td>0.082045</td>\n",
       "      <td>0.000000</td>\n",
       "      <td>5.190000</td>\n",
       "      <td>0.000000</td>\n",
       "      <td>0.449000</td>\n",
       "      <td>5.885500</td>\n",
       "      <td>45.025000</td>\n",
       "      <td>2.100175</td>\n",
       "      <td>4.000000</td>\n",
       "      <td>279.000000</td>\n",
       "      <td>17.400000</td>\n",
       "      <td>375.377500</td>\n",
       "      <td>6.950000</td>\n",
       "      <td>17.025000</td>\n",
       "    </tr>\n",
       "    <tr>\n",
       "      <th>50%</th>\n",
       "      <td>0.256510</td>\n",
       "      <td>0.000000</td>\n",
       "      <td>9.690000</td>\n",
       "      <td>0.000000</td>\n",
       "      <td>0.538000</td>\n",
       "      <td>6.208500</td>\n",
       "      <td>77.500000</td>\n",
       "      <td>3.207450</td>\n",
       "      <td>5.000000</td>\n",
       "      <td>330.000000</td>\n",
       "      <td>19.050000</td>\n",
       "      <td>391.440000</td>\n",
       "      <td>11.360000</td>\n",
       "      <td>21.200000</td>\n",
       "    </tr>\n",
       "    <tr>\n",
       "      <th>75%</th>\n",
       "      <td>3.677083</td>\n",
       "      <td>12.500000</td>\n",
       "      <td>18.100000</td>\n",
       "      <td>0.000000</td>\n",
       "      <td>0.624000</td>\n",
       "      <td>6.623500</td>\n",
       "      <td>94.075000</td>\n",
       "      <td>5.188425</td>\n",
       "      <td>24.000000</td>\n",
       "      <td>666.000000</td>\n",
       "      <td>20.200000</td>\n",
       "      <td>396.225000</td>\n",
       "      <td>16.955000</td>\n",
       "      <td>25.000000</td>\n",
       "    </tr>\n",
       "    <tr>\n",
       "      <th>max</th>\n",
       "      <td>88.976200</td>\n",
       "      <td>100.000000</td>\n",
       "      <td>27.740000</td>\n",
       "      <td>1.000000</td>\n",
       "      <td>0.871000</td>\n",
       "      <td>8.780000</td>\n",
       "      <td>100.000000</td>\n",
       "      <td>12.126500</td>\n",
       "      <td>24.000000</td>\n",
       "      <td>711.000000</td>\n",
       "      <td>22.000000</td>\n",
       "      <td>396.900000</td>\n",
       "      <td>37.970000</td>\n",
       "      <td>50.000000</td>\n",
       "    </tr>\n",
       "  </tbody>\n",
       "</table>\n",
       "</div>"
      ],
      "text/plain": [
       "             CRIM          ZN       INDUS        CHAS         NOX          RM  \\\n",
       "count  506.000000  506.000000  506.000000  506.000000  506.000000  506.000000   \n",
       "mean     3.613524   11.363636   11.136779    0.069170    0.554695    6.284634   \n",
       "std      8.601545   23.322453    6.860353    0.253994    0.115878    0.702617   \n",
       "min      0.006320    0.000000    0.460000    0.000000    0.385000    3.561000   \n",
       "25%      0.082045    0.000000    5.190000    0.000000    0.449000    5.885500   \n",
       "50%      0.256510    0.000000    9.690000    0.000000    0.538000    6.208500   \n",
       "75%      3.677083   12.500000   18.100000    0.000000    0.624000    6.623500   \n",
       "max     88.976200  100.000000   27.740000    1.000000    0.871000    8.780000   \n",
       "\n",
       "              AGE         DIS         RAD         TAX     PTRATIO           B  \\\n",
       "count  506.000000  506.000000  506.000000  506.000000  506.000000  506.000000   \n",
       "mean    68.574901    3.795043    9.549407  408.237154   18.455534  356.674032   \n",
       "std     28.148861    2.105710    8.707259  168.537116    2.164946   91.294864   \n",
       "min      2.900000    1.129600    1.000000  187.000000   12.600000    0.320000   \n",
       "25%     45.025000    2.100175    4.000000  279.000000   17.400000  375.377500   \n",
       "50%     77.500000    3.207450    5.000000  330.000000   19.050000  391.440000   \n",
       "75%     94.075000    5.188425   24.000000  666.000000   20.200000  396.225000   \n",
       "max    100.000000   12.126500   24.000000  711.000000   22.000000  396.900000   \n",
       "\n",
       "            LSTAT        MEDV  \n",
       "count  506.000000  506.000000  \n",
       "mean    12.653063   22.532806  \n",
       "std      7.141062    9.197104  \n",
       "min      1.730000    5.000000  \n",
       "25%      6.950000   17.025000  \n",
       "50%     11.360000   21.200000  \n",
       "75%     16.955000   25.000000  \n",
       "max     37.970000   50.000000  "
      ]
     },
     "execution_count": 7,
     "metadata": {},
     "output_type": "execute_result"
    }
   ],
   "source": [
    "df.describe()"
   ]
  },
  {
   "cell_type": "code",
   "execution_count": 12,
   "id": "juvenile-fellow",
   "metadata": {
    "execution": {
     "iopub.execute_input": "2021-11-22T13:27:57.342931Z",
     "iopub.status.busy": "2021-11-22T13:27:57.342287Z",
     "iopub.status.idle": "2021-11-22T13:27:57.726830Z",
     "shell.execute_reply": "2021-11-22T13:27:57.726162Z",
     "shell.execute_reply.started": "2021-11-16T14:23:47.669475Z"
    },
    "papermill": {
     "duration": 0.451274,
     "end_time": "2021-11-22T13:27:57.726973",
     "exception": false,
     "start_time": "2021-11-22T13:27:57.275699",
     "status": "completed"
    },
    "tags": []
   },
   "outputs": [
    {
     "data": {
      "image/png": "[encoded data removed]",
      "text/plain": [
       "<Figure size 1440x576 with 1 Axes>"
      ]
     },
     "metadata": {},
     "output_type": "display_data"
    }
   ],
   "source": [
    "# looking for outliers using box plot\n",
    "\n",
    "plt.figure(figsize = (20, 8))\n",
    "sns.boxplot(data = df, width = 0.8)\n",
    "plt.show()"
   ]
  },
  {
   "cell_type": "code",
   "execution_count": 13,
   "id": "clear-estonia",
   "metadata": {
    "execution": {
     "iopub.execute_input": "2021-11-22T13:27:57.996513Z",
     "iopub.status.busy": "2021-11-22T13:27:57.995875Z",
     "iopub.status.idle": "2021-11-22T13:27:58.001173Z",
     "shell.execute_reply": "2021-11-22T13:27:58.001720Z",
     "shell.execute_reply.started": "2021-11-16T14:23:48.081299Z"
    },
    "papermill": {
     "duration": 0.074323,
     "end_time": "2021-11-22T13:27:58.001909",
     "exception": false,
     "start_time": "2021-11-22T13:27:57.927586",
     "status": "completed"
    },
    "tags": []
   },
   "outputs": [],
   "source": [
    "#There are some outliers in data, so StandardScaler can help in scaling data\n",
    "# creating features and label variable\n",
    "\n",
    "X = df.drop(columns = 'MEDV', axis = 1)\n",
    "y = df['MEDV']"
   ]
  },
  {
   "cell_type": "code",
   "execution_count": 14,
   "id": "instrumental-territory",
   "metadata": {
    "execution": {
     "iopub.execute_input": "2021-11-22T13:27:58.136192Z",
     "iopub.status.busy": "2021-11-22T13:27:58.135564Z",
     "iopub.status.idle": "2021-11-22T13:27:58.144127Z",
     "shell.execute_reply": "2021-11-22T13:27:58.144657Z",
     "shell.execute_reply.started": "2021-11-16T14:23:48.089541Z"
    },
    "papermill": {
     "duration": 0.077591,
     "end_time": "2021-11-22T13:27:58.144833",
     "exception": false,
     "start_time": "2021-11-22T13:27:58.067242",
     "status": "completed"
    },
    "tags": []
   },
   "outputs": [],
   "source": [
    "from sklearn.preprocessing import StandardScaler\n",
    "\n",
    "scaler = StandardScaler()\n",
    "X_scaled = scaler.fit_transform(X)"
   ]
  },
  {
   "cell_type": "code",
   "execution_count": 15,
   "id": "dirty-gardening",
   "metadata": {
    "execution": {
     "iopub.execute_input": "2021-11-22T13:27:58.278922Z",
     "iopub.status.busy": "2021-11-22T13:27:58.277924Z",
     "iopub.status.idle": "2021-11-22T13:27:58.284213Z",
     "shell.execute_reply": "2021-11-22T13:27:58.284717Z",
     "shell.execute_reply.started": "2021-11-16T14:23:48.110915Z"
    },
    "papermill": {
     "duration": 0.0754,
     "end_time": "2021-11-22T13:27:58.284898",
     "exception": false,
     "start_time": "2021-11-22T13:27:58.209498",
     "status": "completed"
    },
    "tags": []
   },
   "outputs": [
    {
     "data": {
      "text/plain": [
       "array([[-0.41978194,  0.28482986, -1.2879095 , ..., -1.45900038,\n",
       "         0.44105193, -1.0755623 ],\n",
       "       [-0.41733926, -0.48772236, -0.59338101, ..., -0.30309415,\n",
       "         0.44105193, -0.49243937],\n",
       "       [-0.41734159, -0.48772236, -0.59338101, ..., -0.30309415,\n",
       "         0.39642699, -1.2087274 ],\n",
       "       ...,\n",
       "       [-0.41344658, -0.48772236,  0.11573841, ...,  1.17646583,\n",
       "         0.44105193, -0.98304761],\n",
       "       [-0.40776407, -0.48772236,  0.11573841, ...,  1.17646583,\n",
       "         0.4032249 , -0.86530163],\n",
       "       [-0.41500016, -0.48772236,  0.11573841, ...,  1.17646583,\n",
       "         0.44105193, -0.66905833]])"
      ]
     },
     "execution_count": 15,
     "metadata": {},
     "output_type": "execute_result"
    }
   ],
   "source": [
    "X_scaled"
   ]
  },
  {
   "cell_type": "code",
   "execution_count": 16,
   "id": "automatic-dutch",
   "metadata": {
    "execution": {
     "iopub.execute_input": "2021-11-22T13:27:58.418441Z",
     "iopub.status.busy": "2021-11-22T13:27:58.417436Z",
     "iopub.status.idle": "2021-11-22T13:27:58.559090Z",
     "shell.execute_reply": "2021-11-22T13:27:58.559733Z",
     "shell.execute_reply.started": "2021-11-16T14:23:48.120491Z"
    },
    "papermill": {
     "duration": 0.210195,
     "end_time": "2021-11-22T13:27:58.559904",
     "exception": false,
     "start_time": "2021-11-22T13:27:58.349709",
     "status": "completed"
    },
    "tags": []
   },
   "outputs": [
    {
     "data": {
      "text/html": [
       "<div>\n",
       "<style scoped>\n",
       "    .dataframe tbody tr th:only-of-type {\n",
       "        vertical-align: middle;\n",
       "    }\n",
       "\n",
       "    .dataframe tbody tr th {\n",
       "        vertical-align: top;\n",
       "    }\n",
       "\n",
       "    .dataframe thead th {\n",
       "        text-align: right;\n",
       "    }\n",
       "</style>\n",
       "<table border=\"1\" class=\"dataframe\">\n",
       "  <thead>\n",
       "    <tr style=\"text-align: right;\">\n",
       "      <th></th>\n",
       "      <th>VIF</th>\n",
       "      <th>Features</th>\n",
       "    </tr>\n",
       "  </thead>\n",
       "  <tbody>\n",
       "    <tr>\n",
       "      <th>0</th>\n",
       "      <td>1.792192</td>\n",
       "      <td>CRIM</td>\n",
       "    </tr>\n",
       "    <tr>\n",
       "      <th>1</th>\n",
       "      <td>2.298758</td>\n",
       "      <td>ZN</td>\n",
       "    </tr>\n",
       "    <tr>\n",
       "      <th>2</th>\n",
       "      <td>3.991596</td>\n",
       "      <td>INDUS</td>\n",
       "    </tr>\n",
       "    <tr>\n",
       "      <th>3</th>\n",
       "      <td>1.073995</td>\n",
       "      <td>CHAS</td>\n",
       "    </tr>\n",
       "    <tr>\n",
       "      <th>4</th>\n",
       "      <td>4.393720</td>\n",
       "      <td>NOX</td>\n",
       "    </tr>\n",
       "    <tr>\n",
       "      <th>5</th>\n",
       "      <td>1.933744</td>\n",
       "      <td>RM</td>\n",
       "    </tr>\n",
       "    <tr>\n",
       "      <th>6</th>\n",
       "      <td>3.100826</td>\n",
       "      <td>AGE</td>\n",
       "    </tr>\n",
       "    <tr>\n",
       "      <th>7</th>\n",
       "      <td>3.955945</td>\n",
       "      <td>DIS</td>\n",
       "    </tr>\n",
       "    <tr>\n",
       "      <th>8</th>\n",
       "      <td>7.484496</td>\n",
       "      <td>RAD</td>\n",
       "    </tr>\n",
       "    <tr>\n",
       "      <th>9</th>\n",
       "      <td>9.008554</td>\n",
       "      <td>TAX</td>\n",
       "    </tr>\n",
       "    <tr>\n",
       "      <th>10</th>\n",
       "      <td>1.799084</td>\n",
       "      <td>PTRATIO</td>\n",
       "    </tr>\n",
       "    <tr>\n",
       "      <th>11</th>\n",
       "      <td>1.348521</td>\n",
       "      <td>B</td>\n",
       "    </tr>\n",
       "    <tr>\n",
       "      <th>12</th>\n",
       "      <td>2.941491</td>\n",
       "      <td>LSTAT</td>\n",
       "    </tr>\n",
       "  </tbody>\n",
       "</table>\n",
       "</div>"
      ],
      "text/plain": [
       "         VIF Features\n",
       "0   1.792192     CRIM\n",
       "1   2.298758       ZN\n",
       "2   3.991596    INDUS\n",
       "3   1.073995     CHAS\n",
       "4   4.393720      NOX\n",
       "5   1.933744       RM\n",
       "6   3.100826      AGE\n",
       "7   3.955945      DIS\n",
       "8   7.484496      RAD\n",
       "9   9.008554      TAX\n",
       "10  1.799084  PTRATIO\n",
       "11  1.348521        B\n",
       "12  2.941491    LSTAT"
      ]
     },
     "execution_count": 16,
     "metadata": {},
     "output_type": "execute_result"
    }
   ],
   "source": [
    "# checking for multicollinearity using `VIF` and `correlation matrix`\n",
    "\n",
    "from statsmodels.stats.outliers_influence import variance_inflation_factor\n",
    "\n",
    "vif = pd.DataFrame()\n",
    "\n",
    "vif['VIF'] = [variance_inflation_factor(X_scaled, i) for i in range(X_scaled.shape[1])]\n",
    "vif['Features'] = X.columns\n",
    "\n",
    "vif"
   ]
  },
  {
   "cell_type": "code",
   "execution_count": 17,
   "id": "golden-ferry",
   "metadata": {
    "execution": {
     "iopub.execute_input": "2021-11-22T13:27:58.696350Z",
     "iopub.status.busy": "2021-11-22T13:27:58.695325Z",
     "iopub.status.idle": "2021-11-22T13:27:58.725043Z",
     "shell.execute_reply": "2021-11-22T13:27:58.725622Z",
     "shell.execute_reply.started": "2021-11-16T14:23:48.160172Z"
    },
    "papermill": {
     "duration": 0.099696,
     "end_time": "2021-11-22T13:27:58.725798",
     "exception": false,
     "start_time": "2021-11-22T13:27:58.626102",
     "status": "completed"
    },
    "tags": []
   },
   "outputs": [
    {
     "data": {
      "text/html": [
       "<div>\n",
       "<style scoped>\n",
       "    .dataframe tbody tr th:only-of-type {\n",
       "        vertical-align: middle;\n",
       "    }\n",
       "\n",
       "    .dataframe tbody tr th {\n",
       "        vertical-align: top;\n",
       "    }\n",
       "\n",
       "    .dataframe thead th {\n",
       "        text-align: right;\n",
       "    }\n",
       "</style>\n",
       "<table border=\"1\" class=\"dataframe\">\n",
       "  <thead>\n",
       "    <tr style=\"text-align: right;\">\n",
       "      <th></th>\n",
       "      <th>CRIM</th>\n",
       "      <th>ZN</th>\n",
       "      <th>INDUS</th>\n",
       "      <th>CHAS</th>\n",
       "      <th>NOX</th>\n",
       "      <th>RM</th>\n",
       "      <th>AGE</th>\n",
       "      <th>DIS</th>\n",
       "      <th>RAD</th>\n",
       "      <th>PTRATIO</th>\n",
       "      <th>B</th>\n",
       "      <th>LSTAT</th>\n",
       "    </tr>\n",
       "  </thead>\n",
       "  <tbody>\n",
       "    <tr>\n",
       "      <th>0</th>\n",
       "      <td>0.00632</td>\n",
       "      <td>18.0</td>\n",
       "      <td>2.31</td>\n",
       "      <td>0.0</td>\n",
       "      <td>0.538</td>\n",
       "      <td>6.575</td>\n",
       "      <td>65.2</td>\n",
       "      <td>4.0900</td>\n",
       "      <td>1.0</td>\n",
       "      <td>15.3</td>\n",
       "      <td>396.90</td>\n",
       "      <td>4.98</td>\n",
       "    </tr>\n",
       "    <tr>\n",
       "      <th>1</th>\n",
       "      <td>0.02731</td>\n",
       "      <td>0.0</td>\n",
       "      <td>7.07</td>\n",
       "      <td>0.0</td>\n",
       "      <td>0.469</td>\n",
       "      <td>6.421</td>\n",
       "      <td>78.9</td>\n",
       "      <td>4.9671</td>\n",
       "      <td>2.0</td>\n",
       "      <td>17.8</td>\n",
       "      <td>396.90</td>\n",
       "      <td>9.14</td>\n",
       "    </tr>\n",
       "    <tr>\n",
       "      <th>2</th>\n",
       "      <td>0.02729</td>\n",
       "      <td>0.0</td>\n",
       "      <td>7.07</td>\n",
       "      <td>0.0</td>\n",
       "      <td>0.469</td>\n",
       "      <td>7.185</td>\n",
       "      <td>61.1</td>\n",
       "      <td>4.9671</td>\n",
       "      <td>2.0</td>\n",
       "      <td>17.8</td>\n",
       "      <td>392.83</td>\n",
       "      <td>4.03</td>\n",
       "    </tr>\n",
       "    <tr>\n",
       "      <th>3</th>\n",
       "      <td>0.03237</td>\n",
       "      <td>0.0</td>\n",
       "      <td>2.18</td>\n",
       "      <td>0.0</td>\n",
       "      <td>0.458</td>\n",
       "      <td>6.998</td>\n",
       "      <td>45.8</td>\n",
       "      <td>6.0622</td>\n",
       "      <td>3.0</td>\n",
       "      <td>18.7</td>\n",
       "      <td>394.63</td>\n",
       "      <td>2.94</td>\n",
       "    </tr>\n",
       "    <tr>\n",
       "      <th>4</th>\n",
       "      <td>0.06905</td>\n",
       "      <td>0.0</td>\n",
       "      <td>2.18</td>\n",
       "      <td>0.0</td>\n",
       "      <td>0.458</td>\n",
       "      <td>7.147</td>\n",
       "      <td>54.2</td>\n",
       "      <td>6.0622</td>\n",
       "      <td>3.0</td>\n",
       "      <td>18.7</td>\n",
       "      <td>396.90</td>\n",
       "      <td>5.33</td>\n",
       "    </tr>\n",
       "    <tr>\n",
       "      <th>...</th>\n",
       "      <td>...</td>\n",
       "      <td>...</td>\n",
       "      <td>...</td>\n",
       "      <td>...</td>\n",
       "      <td>...</td>\n",
       "      <td>...</td>\n",
       "      <td>...</td>\n",
       "      <td>...</td>\n",
       "      <td>...</td>\n",
       "      <td>...</td>\n",
       "      <td>...</td>\n",
       "      <td>...</td>\n",
       "    </tr>\n",
       "    <tr>\n",
       "      <th>501</th>\n",
       "      <td>0.06263</td>\n",
       "      <td>0.0</td>\n",
       "      <td>11.93</td>\n",
       "      <td>0.0</td>\n",
       "      <td>0.573</td>\n",
       "      <td>6.593</td>\n",
       "      <td>69.1</td>\n",
       "      <td>2.4786</td>\n",
       "      <td>1.0</td>\n",
       "      <td>21.0</td>\n",
       "      <td>391.99</td>\n",
       "      <td>9.67</td>\n",
       "    </tr>\n",
       "    <tr>\n",
       "      <th>502</th>\n",
       "      <td>0.04527</td>\n",
       "      <td>0.0</td>\n",
       "      <td>11.93</td>\n",
       "      <td>0.0</td>\n",
       "      <td>0.573</td>\n",
       "      <td>6.120</td>\n",
       "      <td>76.7</td>\n",
       "      <td>2.2875</td>\n",
       "      <td>1.0</td>\n",
       "      <td>21.0</td>\n",
       "      <td>396.90</td>\n",
       "      <td>9.08</td>\n",
       "    </tr>\n",
       "    <tr>\n",
       "      <th>503</th>\n",
       "      <td>0.06076</td>\n",
       "      <td>0.0</td>\n",
       "      <td>11.93</td>\n",
       "      <td>0.0</td>\n",
       "      <td>0.573</td>\n",
       "      <td>6.976</td>\n",
       "      <td>91.0</td>\n",
       "      <td>2.1675</td>\n",
       "      <td>1.0</td>\n",
       "      <td>21.0</td>\n",
       "      <td>396.90</td>\n",
       "      <td>5.64</td>\n",
       "    </tr>\n",
       "    <tr>\n",
       "      <th>504</th>\n",
       "      <td>0.10959</td>\n",
       "      <td>0.0</td>\n",
       "      <td>11.93</td>\n",
       "      <td>0.0</td>\n",
       "      <td>0.573</td>\n",
       "      <td>6.794</td>\n",
       "      <td>89.3</td>\n",
       "      <td>2.3889</td>\n",
       "      <td>1.0</td>\n",
       "      <td>21.0</td>\n",
       "      <td>393.45</td>\n",
       "      <td>6.48</td>\n",
       "    </tr>\n",
       "    <tr>\n",
       "      <th>505</th>\n",
       "      <td>0.04741</td>\n",
       "      <td>0.0</td>\n",
       "      <td>11.93</td>\n",
       "      <td>0.0</td>\n",
       "      <td>0.573</td>\n",
       "      <td>6.030</td>\n",
       "      <td>80.8</td>\n",
       "      <td>2.5050</td>\n",
       "      <td>1.0</td>\n",
       "      <td>21.0</td>\n",
       "      <td>396.90</td>\n",
       "      <td>7.88</td>\n",
       "    </tr>\n",
       "  </tbody>\n",
       "</table>\n",
       "<p>506 rows × 12 columns</p>\n",
       "</div>"
      ],
      "text/plain": [
       "        CRIM    ZN  INDUS  CHAS    NOX     RM   AGE     DIS  RAD  PTRATIO  \\\n",
       "0    0.00632  18.0   2.31   0.0  0.538  6.575  65.2  4.0900  1.0     15.3   \n",
       "1    0.02731   0.0   7.07   0.0  0.469  6.421  78.9  4.9671  2.0     17.8   \n",
       "2    0.02729   0.0   7.07   0.0  0.469  7.185  61.1  4.9671  2.0     17.8   \n",
       "3    0.03237   0.0   2.18   0.0  0.458  6.998  45.8  6.0622  3.0     18.7   \n",
       "4    0.06905   0.0   2.18   0.0  0.458  7.147  54.2  6.0622  3.0     18.7   \n",
       "..       ...   ...    ...   ...    ...    ...   ...     ...  ...      ...   \n",
       "501  0.06263   0.0  11.93   0.0  0.573  6.593  69.1  2.4786  1.0     21.0   \n",
       "502  0.04527   0.0  11.93   0.0  0.573  6.120  76.7  2.2875  1.0     21.0   \n",
       "503  0.06076   0.0  11.93   0.0  0.573  6.976  91.0  2.1675  1.0     21.0   \n",
       "504  0.10959   0.0  11.93   0.0  0.573  6.794  89.3  2.3889  1.0     21.0   \n",
       "505  0.04741   0.0  11.93   0.0  0.573  6.030  80.8  2.5050  1.0     21.0   \n",
       "\n",
       "          B  LSTAT  \n",
       "0    396.90   4.98  \n",
       "1    396.90   9.14  \n",
       "2    392.83   4.03  \n",
       "3    394.63   2.94  \n",
       "4    396.90   5.33  \n",
       "..      ...    ...  \n",
       "501  391.99   9.67  \n",
       "502  396.90   9.08  \n",
       "503  396.90   5.64  \n",
       "504  393.45   6.48  \n",
       "505  396.90   7.88  \n",
       "\n",
       "[506 rows x 12 columns]"
      ]
     },
     "execution_count": 17,
     "metadata": {},
     "output_type": "execute_result"
    }
   ],
   "source": [
    "# dropping 'TAX' column from data\n",
    "\n",
    "X.drop(columns = ['TAX'], axis = 1)"
   ]
  },
  {
   "cell_type": "code",
   "execution_count": 18,
   "id": "mature-limitation",
   "metadata": {
    "execution": {
     "iopub.execute_input": "2021-11-22T13:27:58.867825Z",
     "iopub.status.busy": "2021-11-22T13:27:58.866767Z",
     "iopub.status.idle": "2021-11-22T13:27:59.994341Z",
     "shell.execute_reply": "2021-11-22T13:27:59.994958Z",
     "shell.execute_reply.started": "2021-11-16T14:23:48.193942Z"
    },
    "papermill": {
     "duration": 1.202334,
     "end_time": "2021-11-22T13:27:59.995170",
     "exception": false,
     "start_time": "2021-11-22T13:27:58.792836",
     "status": "completed"
    },
    "tags": []
   },
   "outputs": [
    {
     "data": {
      "image/png": "[encoded data removed]",
      "text/plain": [
       "<Figure size 1152x576 with 2 Axes>"
      ]
     },
     "metadata": {},
     "output_type": "display_data"
    }
   ],
   "source": [
    "# Heatmap\n",
    "\n",
    "fig, ax = plt.subplots(figsize = (16, 8))\n",
    "sns.heatmap(df.corr(), annot = True, fmt = '1.2f', annot_kws = {'size' : 10}, linewidth = 1)\n",
    "plt.show()"
   ]
  },
  {
   "cell_type": "code",
   "execution_count": 19,
   "id": "rising-civilization",
   "metadata": {
    "execution": {
     "iopub.execute_input": "2021-11-22T13:28:00.288804Z",
     "iopub.status.busy": "2021-11-22T13:28:00.288130Z",
     "iopub.status.idle": "2021-11-22T13:28:00.396150Z",
     "shell.execute_reply": "2021-11-22T13:28:00.395649Z",
     "shell.execute_reply.started": "2021-11-16T14:23:49.383028Z"
    },
    "papermill": {
     "duration": 0.183206,
     "end_time": "2021-11-22T13:28:00.396296",
     "exception": false,
     "start_time": "2021-11-22T13:28:00.213090",
     "status": "completed"
    },
    "tags": []
   },
   "outputs": [
    {
     "data": {
      "text/html": [
       "<table class=\"simpletable\">\n",
       "<caption>OLS Regression Results</caption>\n",
       "<tr>\n",
       "  <th>Dep. Variable:</th>          <td>MEDV</td>       <th>  R-squared:         </th> <td>   0.146</td>\n",
       "</tr>\n",
       "<tr>\n",
       "  <th>Model:</th>                   <td>OLS</td>       <th>  Adj. R-squared:    </th> <td>   0.144</td>\n",
       "</tr>\n",
       "<tr>\n",
       "  <th>Method:</th>             <td>Least Squares</td>  <th>  F-statistic:       </th> <td>   85.91</td>\n",
       "</tr>\n",
       "<tr>\n",
       "  <th>Date:</th>             <td>Mon, 22 Nov 2021</td> <th>  Prob (F-statistic):</th> <td>5.47e-19</td>\n",
       "</tr>\n",
       "<tr>\n",
       "  <th>Time:</th>                 <td>13:28:00</td>     <th>  Log-Likelihood:    </th> <td> -1800.4</td>\n",
       "</tr>\n",
       "<tr>\n",
       "  <th>No. Observations:</th>      <td>   506</td>      <th>  AIC:               </th> <td>   3605.</td>\n",
       "</tr>\n",
       "<tr>\n",
       "  <th>Df Residuals:</th>          <td>   504</td>      <th>  BIC:               </th> <td>   3613.</td>\n",
       "</tr>\n",
       "<tr>\n",
       "  <th>Df Model:</th>              <td>     1</td>      <th>                     </th>     <td> </td>   \n",
       "</tr>\n",
       "<tr>\n",
       "  <th>Covariance Type:</th>      <td>nonrobust</td>    <th>                     </th>     <td> </td>   \n",
       "</tr>\n",
       "</table>\n",
       "<table class=\"simpletable\">\n",
       "<tr>\n",
       "      <td></td>         <th>coef</th>     <th>std err</th>      <th>t</th>      <th>P>|t|</th>  <th>[0.025</th>    <th>0.975]</th>  \n",
       "</tr>\n",
       "<tr>\n",
       "  <th>Intercept</th> <td>   26.3821</td> <td>    0.562</td> <td>   46.964</td> <td> 0.000</td> <td>   25.278</td> <td>   27.486</td>\n",
       "</tr>\n",
       "<tr>\n",
       "  <th>RAD</th>       <td>   -0.4031</td> <td>    0.043</td> <td>   -9.269</td> <td> 0.000</td> <td>   -0.489</td> <td>   -0.318</td>\n",
       "</tr>\n",
       "</table>\n",
       "<table class=\"simpletable\">\n",
       "<tr>\n",
       "  <th>Omnibus:</th>       <td>149.634</td> <th>  Durbin-Watson:     </th> <td>   0.632</td>\n",
       "</tr>\n",
       "<tr>\n",
       "  <th>Prob(Omnibus):</th> <td> 0.000</td>  <th>  Jarque-Bera (JB):  </th> <td> 359.231</td>\n",
       "</tr>\n",
       "<tr>\n",
       "  <th>Skew:</th>          <td> 1.515</td>  <th>  Prob(JB):          </th> <td>9.86e-79</td>\n",
       "</tr>\n",
       "<tr>\n",
       "  <th>Kurtosis:</th>      <td> 5.803</td>  <th>  Cond. No.          </th> <td>    19.2</td>\n",
       "</tr>\n",
       "</table><br/><br/>Notes:<br/>[1] Standard Errors assume that the covariance matrix of the errors is correctly specified."
      ],
      "text/plain": [
       "<class 'statsmodels.iolib.summary.Summary'>\n",
       "\"\"\"\n",
       "                            OLS Regression Results                            \n",
       "==============================================================================\n",
       "Dep. Variable:                   MEDV   R-squared:                       0.146\n",
       "Model:                            OLS   Adj. R-squared:                  0.144\n",
       "Method:                 Least Squares   F-statistic:                     85.91\n",
       "Date:                Mon, 22 Nov 2021   Prob (F-statistic):           5.47e-19\n",
       "Time:                        13:28:00   Log-Likelihood:                -1800.4\n",
       "No. Observations:                 506   AIC:                             3605.\n",
       "Df Residuals:                     504   BIC:                             3613.\n",
       "Df Model:                           1                                         \n",
       "Covariance Type:            nonrobust                                         \n",
       "==============================================================================\n",
       "                 coef    std err          t      P>|t|      [0.025      0.975]\n",
       "------------------------------------------------------------------------------\n",
       "Intercept     26.3821      0.562     46.964      0.000      25.278      27.486\n",
       "RAD           -0.4031      0.043     -9.269      0.000      -0.489      -0.318\n",
       "==============================================================================\n",
       "Omnibus:                      149.634   Durbin-Watson:                   0.632\n",
       "Prob(Omnibus):                  0.000   Jarque-Bera (JB):              359.231\n",
       "Skew:                           1.515   Prob(JB):                     9.86e-79\n",
       "Kurtosis:                       5.803   Cond. No.                         19.2\n",
       "==============================================================================\n",
       "\n",
       "Notes:\n",
       "[1] Standard Errors assume that the covariance matrix of the errors is correctly specified.\n",
       "\"\"\""
      ]
     },
     "execution_count": 19,
     "metadata": {},
     "output_type": "execute_result"
    }
   ],
   "source": [
    "import statsmodels.formula.api as smf\n",
    "\n",
    "lm = smf.ols(formula = 'MEDV ~ RAD', data = df).fit()\n",
    "lm.summary()"
   ]
  },
  {
   "cell_type": "code",
   "execution_count": 20,
   "id": "social-longer",
   "metadata": {
    "execution": {
     "iopub.execute_input": "2021-11-22T13:28:00.552161Z",
     "iopub.status.busy": "2021-11-22T13:28:00.551505Z",
     "iopub.status.idle": "2021-11-22T13:28:00.569747Z",
     "shell.execute_reply": "2021-11-22T13:28:00.570187Z",
     "shell.execute_reply.started": "2021-11-16T14:23:49.412235Z"
    },
    "papermill": {
     "duration": 0.100072,
     "end_time": "2021-11-22T13:28:00.570373",
     "exception": false,
     "start_time": "2021-11-22T13:28:00.470301",
     "status": "completed"
    },
    "tags": []
   },
   "outputs": [
    {
     "data": {
      "text/html": [
       "<table class=\"simpletable\">\n",
       "<caption>OLS Regression Results</caption>\n",
       "<tr>\n",
       "  <th>Dep. Variable:</th>          <td>MEDV</td>       <th>  R-squared:         </th> <td>   0.220</td>\n",
       "</tr>\n",
       "<tr>\n",
       "  <th>Model:</th>                   <td>OLS</td>       <th>  Adj. R-squared:    </th> <td>   0.218</td>\n",
       "</tr>\n",
       "<tr>\n",
       "  <th>Method:</th>             <td>Least Squares</td>  <th>  F-statistic:       </th> <td>   141.8</td>\n",
       "</tr>\n",
       "<tr>\n",
       "  <th>Date:</th>             <td>Mon, 22 Nov 2021</td> <th>  Prob (F-statistic):</th> <td>5.64e-29</td>\n",
       "</tr>\n",
       "<tr>\n",
       "  <th>Time:</th>                 <td>13:28:00</td>     <th>  Log-Likelihood:    </th> <td> -1777.5</td>\n",
       "</tr>\n",
       "<tr>\n",
       "  <th>No. Observations:</th>      <td>   506</td>      <th>  AIC:               </th> <td>   3559.</td>\n",
       "</tr>\n",
       "<tr>\n",
       "  <th>Df Residuals:</th>          <td>   504</td>      <th>  BIC:               </th> <td>   3568.</td>\n",
       "</tr>\n",
       "<tr>\n",
       "  <th>Df Model:</th>              <td>     1</td>      <th>                     </th>     <td> </td>   \n",
       "</tr>\n",
       "<tr>\n",
       "  <th>Covariance Type:</th>      <td>nonrobust</td>    <th>                     </th>     <td> </td>   \n",
       "</tr>\n",
       "</table>\n",
       "<table class=\"simpletable\">\n",
       "<tr>\n",
       "      <td></td>         <th>coef</th>     <th>std err</th>      <th>t</th>      <th>P>|t|</th>  <th>[0.025</th>    <th>0.975]</th>  \n",
       "</tr>\n",
       "<tr>\n",
       "  <th>Intercept</th> <td>   32.9707</td> <td>    0.948</td> <td>   34.768</td> <td> 0.000</td> <td>   31.108</td> <td>   34.834</td>\n",
       "</tr>\n",
       "<tr>\n",
       "  <th>TAX</th>       <td>   -0.0256</td> <td>    0.002</td> <td>  -11.906</td> <td> 0.000</td> <td>   -0.030</td> <td>   -0.021</td>\n",
       "</tr>\n",
       "</table>\n",
       "<table class=\"simpletable\">\n",
       "<tr>\n",
       "  <th>Omnibus:</th>       <td>172.501</td> <th>  Durbin-Watson:     </th> <td>   0.648</td> \n",
       "</tr>\n",
       "<tr>\n",
       "  <th>Prob(Omnibus):</th> <td> 0.000</td>  <th>  Jarque-Bera (JB):  </th> <td> 494.072</td> \n",
       "</tr>\n",
       "<tr>\n",
       "  <th>Skew:</th>          <td> 1.661</td>  <th>  Prob(JB):          </th> <td>5.17e-108</td>\n",
       "</tr>\n",
       "<tr>\n",
       "  <th>Kurtosis:</th>      <td> 6.521</td>  <th>  Cond. No.          </th> <td>1.16e+03</td> \n",
       "</tr>\n",
       "</table><br/><br/>Notes:<br/>[1] Standard Errors assume that the covariance matrix of the errors is correctly specified.<br/>[2] The condition number is large, 1.16e+03. This might indicate that there are<br/>strong multicollinearity or other numerical problems."
      ],
      "text/plain": [
       "<class 'statsmodels.iolib.summary.Summary'>\n",
       "\"\"\"\n",
       "                            OLS Regression Results                            \n",
       "==============================================================================\n",
       "Dep. Variable:                   MEDV   R-squared:                       0.220\n",
       "Model:                            OLS   Adj. R-squared:                  0.218\n",
       "Method:                 Least Squares   F-statistic:                     141.8\n",
       "Date:                Mon, 22 Nov 2021   Prob (F-statistic):           5.64e-29\n",
       "Time:                        13:28:00   Log-Likelihood:                -1777.5\n",
       "No. Observations:                 506   AIC:                             3559.\n",
       "Df Residuals:                     504   BIC:                             3568.\n",
       "Df Model:                           1                                         \n",
       "Covariance Type:            nonrobust                                         \n",
       "==============================================================================\n",
       "                 coef    std err          t      P>|t|      [0.025      0.975]\n",
       "------------------------------------------------------------------------------\n",
       "Intercept     32.9707      0.948     34.768      0.000      31.108      34.834\n",
       "TAX           -0.0256      0.002    -11.906      0.000      -0.030      -0.021\n",
       "==============================================================================\n",
       "Omnibus:                      172.501   Durbin-Watson:                   0.648\n",
       "Prob(Omnibus):                  0.000   Jarque-Bera (JB):              494.072\n",
       "Skew:                           1.661   Prob(JB):                    5.17e-108\n",
       "Kurtosis:                       6.521   Cond. No.                     1.16e+03\n",
       "==============================================================================\n",
       "\n",
       "Notes:\n",
       "[1] Standard Errors assume that the covariance matrix of the errors is correctly specified.\n",
       "[2] The condition number is large, 1.16e+03. This might indicate that there are\n",
       "strong multicollinearity or other numerical problems.\n",
       "\"\"\""
      ]
     },
     "execution_count": 20,
     "metadata": {},
     "output_type": "execute_result"
    }
   ],
   "source": [
    "lm = smf.ols(formula = 'MEDV ~ TAX', data = df).fit()\n",
    "lm.summary()"
   ]
  },
  {
   "cell_type": "code",
   "execution_count": 21,
   "id": "institutional-carrier",
   "metadata": {
    "execution": {
     "iopub.execute_input": "2021-11-22T13:28:00.860958Z",
     "iopub.status.busy": "2021-11-22T13:28:00.860318Z",
     "iopub.status.idle": "2021-11-22T13:28:00.865298Z",
     "shell.execute_reply": "2021-11-22T13:28:00.865883Z",
     "shell.execute_reply.started": "2021-11-16T14:23:49.439615Z"
    },
    "papermill": {
     "duration": 0.079993,
     "end_time": "2021-11-22T13:28:00.866055",
     "exception": false,
     "start_time": "2021-11-22T13:28:00.786062",
     "status": "completed"
    },
    "tags": []
   },
   "outputs": [],
   "source": [
    "# removing \"RAD\" column as it will be good\n",
    "\n",
    "df.drop(columns = 'RAD', axis = 1, inplace = True)"
   ]
  },
  {
   "cell_type": "code",
   "execution_count": 22,
   "id": "detailed-midnight",
   "metadata": {
    "execution": {
     "iopub.execute_input": "2021-11-22T13:28:01.024603Z",
     "iopub.status.busy": "2021-11-22T13:28:01.014166Z",
     "iopub.status.idle": "2021-11-22T13:28:01.037543Z",
     "shell.execute_reply": "2021-11-22T13:28:01.037041Z",
     "shell.execute_reply.started": "2021-11-16T14:23:49.446862Z"
    },
    "papermill": {
     "duration": 0.099606,
     "end_time": "2021-11-22T13:28:01.037686",
     "exception": false,
     "start_time": "2021-11-22T13:28:00.938080",
     "status": "completed"
    },
    "tags": []
   },
   "outputs": [
    {
     "data": {
      "text/html": [
       "<div>\n",
       "<style scoped>\n",
       "    .dataframe tbody tr th:only-of-type {\n",
       "        vertical-align: middle;\n",
       "    }\n",
       "\n",
       "    .dataframe tbody tr th {\n",
       "        vertical-align: top;\n",
       "    }\n",
       "\n",
       "    .dataframe thead th {\n",
       "        text-align: right;\n",
       "    }\n",
       "</style>\n",
       "<table border=\"1\" class=\"dataframe\">\n",
       "  <thead>\n",
       "    <tr style=\"text-align: right;\">\n",
       "      <th></th>\n",
       "      <th>CRIM</th>\n",
       "      <th>ZN</th>\n",
       "      <th>INDUS</th>\n",
       "      <th>CHAS</th>\n",
       "      <th>NOX</th>\n",
       "      <th>RM</th>\n",
       "      <th>AGE</th>\n",
       "      <th>DIS</th>\n",
       "      <th>TAX</th>\n",
       "      <th>PTRATIO</th>\n",
       "      <th>B</th>\n",
       "      <th>LSTAT</th>\n",
       "      <th>MEDV</th>\n",
       "    </tr>\n",
       "  </thead>\n",
       "  <tbody>\n",
       "    <tr>\n",
       "      <th>0</th>\n",
       "      <td>0.00632</td>\n",
       "      <td>18.0</td>\n",
       "      <td>2.31</td>\n",
       "      <td>0.0</td>\n",
       "      <td>0.538</td>\n",
       "      <td>6.575</td>\n",
       "      <td>65.2</td>\n",
       "      <td>4.0900</td>\n",
       "      <td>296.0</td>\n",
       "      <td>15.3</td>\n",
       "      <td>396.90</td>\n",
       "      <td>4.98</td>\n",
       "      <td>24.0</td>\n",
       "    </tr>\n",
       "    <tr>\n",
       "      <th>1</th>\n",
       "      <td>0.02731</td>\n",
       "      <td>0.0</td>\n",
       "      <td>7.07</td>\n",
       "      <td>0.0</td>\n",
       "      <td>0.469</td>\n",
       "      <td>6.421</td>\n",
       "      <td>78.9</td>\n",
       "      <td>4.9671</td>\n",
       "      <td>242.0</td>\n",
       "      <td>17.8</td>\n",
       "      <td>396.90</td>\n",
       "      <td>9.14</td>\n",
       "      <td>21.6</td>\n",
       "    </tr>\n",
       "    <tr>\n",
       "      <th>2</th>\n",
       "      <td>0.02729</td>\n",
       "      <td>0.0</td>\n",
       "      <td>7.07</td>\n",
       "      <td>0.0</td>\n",
       "      <td>0.469</td>\n",
       "      <td>7.185</td>\n",
       "      <td>61.1</td>\n",
       "      <td>4.9671</td>\n",
       "      <td>242.0</td>\n",
       "      <td>17.8</td>\n",
       "      <td>392.83</td>\n",
       "      <td>4.03</td>\n",
       "      <td>34.7</td>\n",
       "    </tr>\n",
       "    <tr>\n",
       "      <th>3</th>\n",
       "      <td>0.03237</td>\n",
       "      <td>0.0</td>\n",
       "      <td>2.18</td>\n",
       "      <td>0.0</td>\n",
       "      <td>0.458</td>\n",
       "      <td>6.998</td>\n",
       "      <td>45.8</td>\n",
       "      <td>6.0622</td>\n",
       "      <td>222.0</td>\n",
       "      <td>18.7</td>\n",
       "      <td>394.63</td>\n",
       "      <td>2.94</td>\n",
       "      <td>33.4</td>\n",
       "    </tr>\n",
       "    <tr>\n",
       "      <th>4</th>\n",
       "      <td>0.06905</td>\n",
       "      <td>0.0</td>\n",
       "      <td>2.18</td>\n",
       "      <td>0.0</td>\n",
       "      <td>0.458</td>\n",
       "      <td>7.147</td>\n",
       "      <td>54.2</td>\n",
       "      <td>6.0622</td>\n",
       "      <td>222.0</td>\n",
       "      <td>18.7</td>\n",
       "      <td>396.90</td>\n",
       "      <td>5.33</td>\n",
       "      <td>36.2</td>\n",
       "    </tr>\n",
       "  </tbody>\n",
       "</table>\n",
       "</div>"
      ],
      "text/plain": [
       "      CRIM    ZN  INDUS  CHAS    NOX     RM   AGE     DIS    TAX  PTRATIO  \\\n",
       "0  0.00632  18.0   2.31   0.0  0.538  6.575  65.2  4.0900  296.0     15.3   \n",
       "1  0.02731   0.0   7.07   0.0  0.469  6.421  78.9  4.9671  242.0     17.8   \n",
       "2  0.02729   0.0   7.07   0.0  0.469  7.185  61.1  4.9671  242.0     17.8   \n",
       "3  0.03237   0.0   2.18   0.0  0.458  6.998  45.8  6.0622  222.0     18.7   \n",
       "4  0.06905   0.0   2.18   0.0  0.458  7.147  54.2  6.0622  222.0     18.7   \n",
       "\n",
       "        B  LSTAT  MEDV  \n",
       "0  396.90   4.98  24.0  \n",
       "1  396.90   9.14  21.6  \n",
       "2  392.83   4.03  34.7  \n",
       "3  394.63   2.94  33.4  \n",
       "4  396.90   5.33  36.2  "
      ]
     },
     "execution_count": 22,
     "metadata": {},
     "output_type": "execute_result"
    }
   ],
   "source": [
    "df.head()"
   ]
  },
  {
   "cell_type": "code",
   "execution_count": 23,
   "id": "three-token",
   "metadata": {
    "execution": {
     "iopub.execute_input": "2021-11-22T13:28:01.187589Z",
     "iopub.status.busy": "2021-11-22T13:28:01.186884Z",
     "iopub.status.idle": "2021-11-22T13:28:01.246384Z",
     "shell.execute_reply": "2021-11-22T13:28:01.246923Z",
     "shell.execute_reply.started": "2021-11-16T14:23:49.481482Z"
    },
    "papermill": {
     "duration": 0.135784,
     "end_time": "2021-11-22T13:28:01.247117",
     "exception": false,
     "start_time": "2021-11-22T13:28:01.111333",
     "status": "completed"
    },
    "tags": []
   },
   "outputs": [],
   "source": [
    "# splitting data into training asnd test set\n",
    "\n",
    "from sklearn.model_selection import train_test_split\n",
    "\n",
    "X_train, X_test, y_train, y_test = train_test_split(X_scaled, y, test_size = 0.30, random_state = 0)"
   ]
  },
  {
   "cell_type": "code",
   "execution_count": 24,
   "id": "associate-parameter",
   "metadata": {
    "execution": {
     "iopub.execute_input": "2021-11-22T13:28:01.395478Z",
     "iopub.status.busy": "2021-11-22T13:28:01.394830Z",
     "iopub.status.idle": "2021-11-22T13:28:01.512061Z",
     "shell.execute_reply": "2021-11-22T13:28:01.511446Z",
     "shell.execute_reply.started": "2021-11-16T14:23:49.490442Z"
    },
    "papermill": {
     "duration": 0.192539,
     "end_time": "2021-11-22T13:28:01.512208",
     "exception": false,
     "start_time": "2021-11-22T13:28:01.319669",
     "status": "completed"
    },
    "tags": []
   },
   "outputs": [
    {
     "data": {
      "text/plain": [
       "LinearRegression()"
      ]
     },
     "execution_count": 24,
     "metadata": {},
     "output_type": "execute_result"
    }
   ],
   "source": [
    "# fitting training data to model\n",
    "\n",
    "from sklearn.linear_model import LinearRegression\n",
    "\n",
    "lr = LinearRegression()\n",
    "lr.fit(X_train, y_train)"
   ]
  },
  {
   "cell_type": "code",
   "execution_count": 25,
   "id": "therapeutic-album",
   "metadata": {
    "execution": {
     "iopub.execute_input": "2021-11-22T13:28:01.668038Z",
     "iopub.status.busy": "2021-11-22T13:28:01.667416Z",
     "iopub.status.idle": "2021-11-22T13:28:01.671193Z",
     "shell.execute_reply": "2021-11-22T13:28:01.671822Z",
     "shell.execute_reply.started": "2021-11-16T14:23:49.501944Z"
    },
    "papermill": {
     "duration": 0.08038,
     "end_time": "2021-11-22T13:28:01.671987",
     "exception": false,
     "start_time": "2021-11-22T13:28:01.591607",
     "status": "completed"
    },
    "tags": []
   },
   "outputs": [],
   "source": [
    "# prediction of model\n",
    "\n",
    "y_pred = lr.predict(X_test)"
   ]
  },
  {
   "cell_type": "code",
   "execution_count": 26,
   "id": "decimal-federation",
   "metadata": {
    "execution": {
     "iopub.execute_input": "2021-11-22T13:28:01.824599Z",
     "iopub.status.busy": "2021-11-22T13:28:01.821423Z",
     "iopub.status.idle": "2021-11-22T13:28:01.827960Z",
     "shell.execute_reply": "2021-11-22T13:28:01.828483Z",
     "shell.execute_reply.started": "2021-11-16T14:23:49.514653Z"
    },
    "papermill": {
     "duration": 0.08331,
     "end_time": "2021-11-22T13:28:01.828658",
     "exception": false,
     "start_time": "2021-11-22T13:28:01.745348",
     "status": "completed"
    },
    "tags": []
   },
   "outputs": [
    {
     "data": {
      "text/plain": [
       "0.7645451026942548"
      ]
     },
     "execution_count": 26,
     "metadata": {},
     "output_type": "execute_result"
    }
   ],
   "source": [
    "# training accuracy of model\n",
    "\n",
    "lr.score(X_train, y_train)"
   ]
  },
  {
   "cell_type": "code",
   "execution_count": 27,
   "id": "coordinated-romania",
   "metadata": {
    "execution": {
     "iopub.execute_input": "2021-11-22T13:28:01.983869Z",
     "iopub.status.busy": "2021-11-22T13:28:01.983201Z",
     "iopub.status.idle": "2021-11-22T13:28:01.986611Z",
     "shell.execute_reply": "2021-11-22T13:28:01.987167Z",
     "shell.execute_reply.started": "2021-11-16T14:23:49.529073Z"
    },
    "papermill": {
     "duration": 0.084919,
     "end_time": "2021-11-22T13:28:01.987329",
     "exception": false,
     "start_time": "2021-11-22T13:28:01.902410",
     "status": "completed"
    },
    "tags": []
   },
   "outputs": [
    {
     "data": {
      "text/plain": [
       "0.6733825506400195"
      ]
     },
     "execution_count": 27,
     "metadata": {},
     "output_type": "execute_result"
    }
   ],
   "source": [
    "# test accuracy of model\n",
    "\n",
    "lr.score(X_test, y_test)"
   ]
  },
  {
   "cell_type": "code",
   "execution_count": 28,
   "id": "difficult-architecture",
   "metadata": {
    "execution": {
     "iopub.execute_input": "2021-11-22T13:28:02.141812Z",
     "iopub.status.busy": "2021-11-22T13:28:02.141106Z",
     "iopub.status.idle": "2021-11-22T13:28:02.146724Z",
     "shell.execute_reply": "2021-11-22T13:28:02.146169Z",
     "shell.execute_reply.started": "2021-11-16T14:23:49.539646Z"
    },
    "papermill": {
     "duration": 0.08369,
     "end_time": "2021-11-22T13:28:02.146871",
     "exception": false,
     "start_time": "2021-11-22T13:28:02.063181",
     "status": "completed"
    },
    "tags": []
   },
   "outputs": [],
   "source": [
    "# creating a function to create adhusted R-Squared\n",
    "\n",
    "def adj_r2(X, y, model):\n",
    "    r2 = model.score(X, y)\n",
    "    n = X.shape[0]\n",
    "    p = X.shape[1]\n",
    "    adjusted_r2 = 1 - (1 - r2) * (n - 1) / (n - p - 1)\n",
    "    \n",
    "    return adjusted_r2"
   ]
  },
  {
   "cell_type": "code",
   "execution_count": 29,
   "id": "smart-playing",
   "metadata": {
    "execution": {
     "iopub.execute_input": "2021-11-22T13:28:02.300443Z",
     "iopub.status.busy": "2021-11-22T13:28:02.299821Z",
     "iopub.status.idle": "2021-11-22T13:28:02.304103Z",
     "shell.execute_reply": "2021-11-22T13:28:02.303584Z",
     "shell.execute_reply.started": "2021-11-16T14:23:49.550994Z"
    },
    "papermill": {
     "duration": 0.08348,
     "end_time": "2021-11-22T13:28:02.304233",
     "exception": false,
     "start_time": "2021-11-22T13:28:02.220753",
     "status": "completed"
    },
    "tags": []
   },
   "outputs": [
    {
     "name": "stdout",
     "output_type": "stream",
     "text": [
      "0.7555424154443292\n"
     ]
    }
   ],
   "source": [
    "print(adj_r2(X_train, y_train, lr))"
   ]
  },
  {
   "cell_type": "code",
   "execution_count": 30,
   "id": "promising-france",
   "metadata": {
    "execution": {
     "iopub.execute_input": "2021-11-22T13:28:02.457614Z",
     "iopub.status.busy": "2021-11-22T13:28:02.456959Z",
     "iopub.status.idle": "2021-11-22T13:28:02.460990Z",
     "shell.execute_reply": "2021-11-22T13:28:02.461430Z",
     "shell.execute_reply.started": "2021-11-16T14:23:49.564794Z"
    },
    "papermill": {
     "duration": 0.083295,
     "end_time": "2021-11-22T13:28:02.461617",
     "exception": false,
     "start_time": "2021-11-22T13:28:02.378322",
     "status": "completed"
    },
    "tags": []
   },
   "outputs": [
    {
     "name": "stdout",
     "output_type": "stream",
     "text": [
      "0.6426142401930648\n"
     ]
    }
   ],
   "source": [
    "print(adj_r2(X_test, y_test, lr)) #Model r2 score is less on the test data so there is chance of overfitting, let's check this using regularization"
   ]
  },
  {
   "cell_type": "markdown",
   "id": "resistant-vacuum",
   "metadata": {
    "papermill": {
     "duration": 0.074039,
     "end_time": "2021-11-22T13:28:02.758758",
     "exception": false,
     "start_time": "2021-11-22T13:28:02.684719",
     "status": "completed"
    },
    "tags": []
   },
   "source": [
    "***Lasso Regression***"
   ]
  },
  {
   "cell_type": "code",
   "execution_count": 31,
   "id": "executive-morris",
   "metadata": {
    "execution": {
     "iopub.execute_input": "2021-11-22T13:28:02.915364Z",
     "iopub.status.busy": "2021-11-22T13:28:02.914114Z",
     "iopub.status.idle": "2021-11-22T13:28:03.045086Z",
     "shell.execute_reply": "2021-11-22T13:28:03.043788Z",
     "shell.execute_reply.started": "2021-11-16T14:23:49.574688Z"
    },
    "papermill": {
     "duration": 0.212205,
     "end_time": "2021-11-22T13:28:03.045327",
     "exception": false,
     "start_time": "2021-11-22T13:28:02.833122",
     "status": "completed"
    },
    "tags": []
   },
   "outputs": [
    {
     "data": {
      "text/plain": [
       "LassoCV(cv=10, max_iter=100000, normalize=True)"
      ]
     },
     "execution_count": 31,
     "metadata": {},
     "output_type": "execute_result"
    }
   ],
   "source": [
    "from sklearn.linear_model import Lasso, LassoCV\n",
    "\n",
    "lasso_cv = LassoCV(alphas = None, cv = 10, max_iter = 100000, normalize = True)\n",
    "lasso_cv.fit(X_train, y_train)"
   ]
  },
  {
   "cell_type": "code",
   "execution_count": 32,
   "id": "preliminary-drove",
   "metadata": {
    "execution": {
     "iopub.execute_input": "2021-11-22T13:28:03.205568Z",
     "iopub.status.busy": "2021-11-22T13:28:03.204804Z",
     "iopub.status.idle": "2021-11-22T13:28:03.209205Z",
     "shell.execute_reply": "2021-11-22T13:28:03.209766Z",
     "shell.execute_reply.started": "2021-11-16T14:23:49.710143Z"
    },
    "papermill": {
     "duration": 0.083545,
     "end_time": "2021-11-22T13:28:03.209935",
     "exception": false,
     "start_time": "2021-11-22T13:28:03.126390",
     "status": "completed"
    },
    "tags": []
   },
   "outputs": [
    {
     "data": {
      "text/plain": [
       "0.0005927671694272835"
      ]
     },
     "execution_count": 32,
     "metadata": {},
     "output_type": "execute_result"
    }
   ],
   "source": [
    "# best alpha parameter\n",
    "\n",
    "alpha = lasso_cv.alpha_\n",
    "alpha"
   ]
  },
  {
   "cell_type": "code",
   "execution_count": 33,
   "id": "changing-baptist",
   "metadata": {
    "execution": {
     "iopub.execute_input": "2021-11-22T13:28:03.363761Z",
     "iopub.status.busy": "2021-11-22T13:28:03.363111Z",
     "iopub.status.idle": "2021-11-22T13:28:03.369477Z",
     "shell.execute_reply": "2021-11-22T13:28:03.370046Z",
     "shell.execute_reply.started": "2021-11-16T14:23:49.718566Z"
    },
    "papermill": {
     "duration": 0.084981,
     "end_time": "2021-11-22T13:28:03.370206",
     "exception": false,
     "start_time": "2021-11-22T13:28:03.285225",
     "status": "completed"
    },
    "tags": []
   },
   "outputs": [
    {
     "data": {
      "text/plain": [
       "Lasso(alpha=0.0005927671694272835)"
      ]
     },
     "execution_count": 33,
     "metadata": {},
     "output_type": "execute_result"
    }
   ],
   "source": [
    "lasso = Lasso(alpha = lasso_cv.alpha_)\n",
    "lasso.fit(X_train, y_train)"
   ]
  },
  {
   "cell_type": "code",
   "execution_count": 34,
   "id": "speaking-responsibility",
   "metadata": {
    "execution": {
     "iopub.execute_input": "2021-11-22T13:28:03.523772Z",
     "iopub.status.busy": "2021-11-22T13:28:03.523056Z",
     "iopub.status.idle": "2021-11-22T13:28:03.529891Z",
     "shell.execute_reply": "2021-11-22T13:28:03.529322Z",
     "shell.execute_reply.started": "2021-11-16T14:23:49.733235Z"
    },
    "papermill": {
     "duration": 0.084631,
     "end_time": "2021-11-22T13:28:03.530040",
     "exception": false,
     "start_time": "2021-11-22T13:28:03.445409",
     "status": "completed"
    },
    "tags": []
   },
   "outputs": [
    {
     "data": {
      "text/plain": [
       "0.7645448200811183"
      ]
     },
     "execution_count": 34,
     "metadata": {},
     "output_type": "execute_result"
    }
   ],
   "source": [
    "lasso.score(X_train, y_train)"
   ]
  },
  {
   "cell_type": "code",
   "execution_count": 35,
   "id": "talented-afternoon",
   "metadata": {
    "execution": {
     "iopub.execute_input": "2021-11-22T13:28:03.687221Z",
     "iopub.status.busy": "2021-11-22T13:28:03.686627Z",
     "iopub.status.idle": "2021-11-22T13:28:03.689350Z",
     "shell.execute_reply": "2021-11-22T13:28:03.689951Z",
     "shell.execute_reply.started": "2021-11-16T14:23:49.747565Z"
    },
    "papermill": {
     "duration": 0.084121,
     "end_time": "2021-11-22T13:28:03.690115",
     "exception": false,
     "start_time": "2021-11-22T13:28:03.605994",
     "status": "completed"
    },
    "tags": []
   },
   "outputs": [
    {
     "data": {
      "text/plain": [
       "0.6733278908244458"
      ]
     },
     "execution_count": 35,
     "metadata": {},
     "output_type": "execute_result"
    }
   ],
   "source": [
    "lasso.score(X_test, y_test)"
   ]
  },
  {
   "cell_type": "code",
   "execution_count": 36,
   "id": "radical-tanzania",
   "metadata": {
    "execution": {
     "iopub.execute_input": "2021-11-22T13:28:03.848074Z",
     "iopub.status.busy": "2021-11-22T13:28:03.847180Z",
     "iopub.status.idle": "2021-11-22T13:28:03.850547Z",
     "shell.execute_reply": "2021-11-22T13:28:03.851072Z",
     "shell.execute_reply.started": "2021-11-16T14:23:49.757066Z"
    },
    "papermill": {
     "duration": 0.085596,
     "end_time": "2021-11-22T13:28:03.851255",
     "exception": false,
     "start_time": "2021-11-22T13:28:03.765659",
     "status": "completed"
    },
    "tags": []
   },
   "outputs": [
    {
     "name": "stdout",
     "output_type": "stream",
     "text": [
      "0.7555421220253964\n"
     ]
    }
   ],
   "source": [
    "print(adj_r2(X_train, y_train, lasso))"
   ]
  },
  {
   "cell_type": "code",
   "execution_count": 37,
   "id": "opposed-harvest",
   "metadata": {
    "execution": {
     "iopub.execute_input": "2021-11-22T13:28:04.007847Z",
     "iopub.status.busy": "2021-11-22T13:28:04.006826Z",
     "iopub.status.idle": "2021-11-22T13:28:04.013770Z",
     "shell.execute_reply": "2021-11-22T13:28:04.014631Z",
     "shell.execute_reply.started": "2021-11-16T14:23:49.770898Z"
    },
    "papermill": {
     "duration": 0.087514,
     "end_time": "2021-11-22T13:28:04.014869",
     "exception": false,
     "start_time": "2021-11-22T13:28:03.927355",
     "status": "completed"
    },
    "tags": []
   },
   "outputs": [
    {
     "name": "stdout",
     "output_type": "stream",
     "text": [
      "0.6425544312644298\n"
     ]
    }
   ],
   "source": [
    "print(adj_r2(X_test, y_test, lasso))"
   ]
  },
  {
   "cell_type": "markdown",
   "id": "taken-trademark",
   "metadata": {
    "papermill": {
     "duration": 0.076427,
     "end_time": "2021-11-22T13:28:04.169618",
     "exception": false,
     "start_time": "2021-11-22T13:28:04.093191",
     "status": "completed"
    },
    "tags": []
   },
   "source": [
    "***Ridge Regression***"
   ]
  },
  {
   "cell_type": "code",
   "execution_count": 38,
   "id": "sharp-gentleman",
   "metadata": {
    "execution": {
     "iopub.execute_input": "2021-11-22T13:28:04.330345Z",
     "iopub.status.busy": "2021-11-22T13:28:04.329689Z",
     "iopub.status.idle": "2021-11-22T13:28:05.321752Z",
     "shell.execute_reply": "2021-11-22T13:28:05.322605Z",
     "shell.execute_reply.started": "2021-11-16T14:23:49.786423Z"
    },
    "papermill": {
     "duration": 1.076619,
     "end_time": "2021-11-22T13:28:05.322897",
     "exception": false,
     "start_time": "2021-11-22T13:28:04.246278",
     "status": "completed"
    },
    "tags": []
   },
   "outputs": [
    {
     "data": {
      "text/plain": [
       "RidgeCV(alphas=array([2.15373205, 1.30471777, 0.68147532, 3.17358197, 7.28666301,\n",
       "       6.38534668, 3.56305209, 4.55080319, 8.91932382, 3.48597778,\n",
       "       0.78585501, 1.92449115, 9.69961472, 5.62774081, 9.76793659,\n",
       "       1.68960906, 0.99732358, 3.13107474, 6.52216832, 0.15074681,\n",
       "       6.50210313, 9.44981171, 8.89654674, 3.43414962, 3.92586589,\n",
       "       0.76310738, 7.91307627, 7.46585324, 4.5380792 , 9.08483996,\n",
       "       1.55575926, 7.89401632, 1.95378058, 3.97305165, 1.68590198,\n",
       "       1.10851988, 4.05118205, 3.60483624, 0.39004989, 0.79074087,\n",
       "       3.51698338, 2.19258386, 2.6150225 , 1.59802988, 7.621787  ,\n",
       "       2.5493694 , 0.32906333, 9.74558415, 0.85003526, 2.67484814]),\n",
       "        cv=10, normalize=True)"
      ]
     },
     "execution_count": 38,
     "metadata": {},
     "output_type": "execute_result"
    }
   ],
   "source": [
    "from sklearn.linear_model import Ridge, RidgeCV\n",
    "\n",
    "alphas = np.random.uniform(0, 10, 50)\n",
    "ridge_cv = RidgeCV(alphas = alphas, cv = 10, normalize = True)\n",
    "ridge_cv.fit(X_train, y_train)"
   ]
  },
  {
   "cell_type": "code",
   "execution_count": 39,
   "id": "angry-montgomery",
   "metadata": {
    "execution": {
     "iopub.execute_input": "2021-11-22T13:28:05.517407Z",
     "iopub.status.busy": "2021-11-22T13:28:05.516484Z",
     "iopub.status.idle": "2021-11-22T13:28:05.520760Z",
     "shell.execute_reply": "2021-11-22T13:28:05.520103Z",
     "shell.execute_reply.started": "2021-11-16T14:23:50.901876Z"
    },
    "papermill": {
     "duration": 0.11628,
     "end_time": "2021-11-22T13:28:05.520927",
     "exception": false,
     "start_time": "2021-11-22T13:28:05.404647",
     "status": "completed"
    },
    "tags": []
   },
   "outputs": [
    {
     "data": {
      "text/plain": [
       "0.15074680918168548"
      ]
     },
     "execution_count": 39,
     "metadata": {},
     "output_type": "execute_result"
    }
   ],
   "source": [
    "# best alpha parameter\n",
    "\n",
    "alpha = ridge_cv.alpha_\n",
    "alpha"
   ]
  },
  {
   "cell_type": "code",
   "execution_count": 40,
   "id": "responsible-vintage",
   "metadata": {
    "execution": {
     "iopub.execute_input": "2021-11-22T13:28:05.678015Z",
     "iopub.status.busy": "2021-11-22T13:28:05.677381Z",
     "iopub.status.idle": "2021-11-22T13:28:05.684236Z",
     "shell.execute_reply": "2021-11-22T13:28:05.685163Z",
     "shell.execute_reply.started": "2021-11-16T14:23:50.910132Z"
    },
    "papermill": {
     "duration": 0.087012,
     "end_time": "2021-11-22T13:28:05.685432",
     "exception": false,
     "start_time": "2021-11-22T13:28:05.598420",
     "status": "completed"
    },
    "tags": []
   },
   "outputs": [
    {
     "data": {
      "text/plain": [
       "Ridge(alpha=0.15074680918168548)"
      ]
     },
     "execution_count": 40,
     "metadata": {},
     "output_type": "execute_result"
    }
   ],
   "source": [
    "ridge = Ridge(alpha = ridge_cv.alpha_)\n",
    "ridge.fit(X_train, y_train)"
   ]
  },
  {
   "cell_type": "code",
   "execution_count": 41,
   "id": "tough-genesis",
   "metadata": {
    "execution": {
     "iopub.execute_input": "2021-11-22T13:28:05.857665Z",
     "iopub.status.busy": "2021-11-22T13:28:05.856896Z",
     "iopub.status.idle": "2021-11-22T13:28:05.859835Z",
     "shell.execute_reply": "2021-11-22T13:28:05.858232Z",
     "shell.execute_reply.started": "2021-11-16T14:23:50.924272Z"
    },
    "papermill": {
     "duration": 0.089166,
     "end_time": "2021-11-22T13:28:05.859983",
     "exception": false,
     "start_time": "2021-11-22T13:28:05.770817",
     "status": "completed"
    },
    "tags": []
   },
   "outputs": [
    {
     "data": {
      "text/plain": [
       "0.7645446373100651"
      ]
     },
     "execution_count": 41,
     "metadata": {},
     "output_type": "execute_result"
    }
   ],
   "source": [
    "ridge.score(X_train, y_train)"
   ]
  },
  {
   "cell_type": "code",
   "execution_count": 42,
   "id": "boring-moderator",
   "metadata": {
    "execution": {
     "iopub.execute_input": "2021-11-22T13:28:06.021645Z",
     "iopub.status.busy": "2021-11-22T13:28:06.020675Z",
     "iopub.status.idle": "2021-11-22T13:28:06.027354Z",
     "shell.execute_reply": "2021-11-22T13:28:06.027910Z",
     "shell.execute_reply.started": "2021-11-16T14:23:50.93607Z"
    },
    "papermill": {
     "duration": 0.089285,
     "end_time": "2021-11-22T13:28:06.028081",
     "exception": false,
     "start_time": "2021-11-22T13:28:05.938796",
     "status": "completed"
    },
    "tags": []
   },
   "outputs": [
    {
     "data": {
      "text/plain": [
       "0.6732894559924114"
      ]
     },
     "execution_count": 42,
     "metadata": {},
     "output_type": "execute_result"
    }
   ],
   "source": [
    "ridge.score(X_test, y_test)"
   ]
  },
  {
   "cell_type": "code",
   "execution_count": 43,
   "id": "private-locator",
   "metadata": {
    "execution": {
     "iopub.execute_input": "2021-11-22T13:28:06.192751Z",
     "iopub.status.busy": "2021-11-22T13:28:06.191766Z",
     "iopub.status.idle": "2021-11-22T13:28:06.199084Z",
     "shell.execute_reply": "2021-11-22T13:28:06.198497Z",
     "shell.execute_reply.started": "2021-11-16T14:23:50.950623Z"
    },
    "papermill": {
     "duration": 0.090753,
     "end_time": "2021-11-22T13:28:06.199226",
     "exception": false,
     "start_time": "2021-11-22T13:28:06.108473",
     "status": "completed"
    },
    "tags": []
   },
   "outputs": [
    {
     "name": "stdout",
     "output_type": "stream",
     "text": [
      "0.7555419322660382\n"
     ]
    }
   ],
   "source": [
    "print(adj_r2(X_train, y_train, ridge))"
   ]
  },
  {
   "cell_type": "code",
   "execution_count": 44,
   "id": "micro-brave",
   "metadata": {
    "execution": {
     "iopub.execute_input": "2021-11-22T13:28:06.365028Z",
     "iopub.status.busy": "2021-11-22T13:28:06.364321Z",
     "iopub.status.idle": "2021-11-22T13:28:06.367813Z",
     "shell.execute_reply": "2021-11-22T13:28:06.367176Z",
     "shell.execute_reply.started": "2021-11-16T14:23:50.96077Z"
    },
    "papermill": {
     "duration": 0.088243,
     "end_time": "2021-11-22T13:28:06.367962",
     "exception": false,
     "start_time": "2021-11-22T13:28:06.279719",
     "status": "completed"
    },
    "tags": []
   },
   "outputs": [
    {
     "name": "stdout",
     "output_type": "stream",
     "text": [
      "0.6425123757598126\n"
     ]
    }
   ],
   "source": [
    "print(adj_r2(X_test, y_test, ridge))"
   ]
  }
 ],
 "metadata": {
  "kernelspec": {
   "display_name": "Python 3.10.7 64-bit",
   "language": "python",
   "name": "python3"
  },
  "language_info": {
   "codemirror_mode": {
    "name": "ipython",
    "version": 3
   },
   "file_extension": ".py",
   "mimetype": "text/x-python",
   "name": "python",
   "nbconvert_exporter": "python",
   "pygments_lexer": "ipython3",
   "version": "3.10.7"
  },
  "papermill": {
   "default_parameters": {},
   "duration": 28.8827,
   "end_time": "2021-11-22T13:28:10.044098",
   "environment_variables": {},
   "exception": null,
   "input_path": "__notebook__.ipynb",
   "output_path": "__notebook__.ipynb",
   "parameters": {},
   "start_time": "2021-11-22T13:27:41.161398",
   "version": "2.3.3"
  },
  "vscode": {
   "interpreter": {
    "hash": "fbc768028c3e6ead51d9a200ddcb2ec858ae62844dcd1994729a8279be9b48f2"
   }
  }
 },
 "nbformat": 4,
 "nbformat_minor": 5
}
